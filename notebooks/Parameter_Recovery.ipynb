{
 "cells": [
  {
   "cell_type": "markdown",
   "id": "f4e5c5bc",
   "metadata": {},
   "source": [
    "# Parameter Recovery\n",
    "---\n",
    "This notebook is for generating figure 2 of: $\\textit{A Hidden Markov Model with Drift Diffusion Model\n",
    "Emissions (HMM-DDM) for the Analysis of Animal Choice Data}$"
   ]
  },
  {
   "cell_type": "code",
   "execution_count": 1,
   "id": "89c87bbd",
   "metadata": {},
   "outputs": [],
   "source": [
    "# load required libraries\n",
    "using DriftDiffusionModels\n",
    "using Random\n",
    "using Distributions"
   ]
  },
  {
   "cell_type": "markdown",
   "id": "66d97fda",
   "metadata": {},
   "source": [
    "## Shared Parameters\n",
    "\n",
    "This set of code will define the parameters that are shared across the \"high\", \"medium\" and \"low\" separation experiments."
   ]
  },
  {
   "cell_type": "code",
   "execution_count": 7,
   "id": "7c5cc3e9",
   "metadata": {},
   "outputs": [
    {
     "data": {
      "text/plain": [
       "PriorHMM{Float64, DriftDiffusionModel}([0.5, 0.5], [0.5 0.5; 0.5 0.5], DriftDiffusionModel[DriftDiffusionModel(5.0, 1.0, 0.5, 0.5, 1.0), DriftDiffusionModel(2.5, 0.5, 0.5, 0.25, 1.0)], [2.0 2.0; 2.0 2.0], [1.0, 1.0])"
      ]
     },
     "metadata": {},
     "output_type": "display_data"
    }
   ],
   "source": [
    "# Transition matrix and initial state distribution\n",
    "A = [0.95 0.05; 0.2 0.8]\n",
    "π₀ = [0.89, 0.11];\n",
    "\n",
    "t_lengths = [10, 100, 1000, 1000, 10000, 100000]\n",
    "\n",
    "# Starting conditions\n",
    "A_guess = [0.5 0.5; 0.5 0.5]\n",
    "π₀_guess = [0.5, 0.5];\n",
    "\n",
    "# Initial Guesses\n",
    "ddm_1_guess = DriftDiffusionModel(\n",
    "    v = 1.0,\n",
    "    B = 5.0,\n",
    "    τ = 0.5,\n",
    ")\n",
    "\n",
    "ddm_2_guess = DriftDiffusionModel(\n",
    "    v = 0.5,\n",
    "    B = 2.5,\n",
    "    τ = 0.25,\n",
    ")\n",
    "\n",
    "hmm_init = PriorHMM(\n",
    "     π₀_guess,\n",
    "     A_guess,\n",
    "    [ddm_1_guess, ddm_2_guess],\n",
    "    ones(2, 2) .*  2,\n",
    "    ones(2)\n",
    ")"
   ]
  },
  {
   "cell_type": "markdown",
   "id": "54325e77",
   "metadata": {},
   "source": [
    "## High Separation\n",
    "This section will assess how well the HMM-DDM where the two DDMs are \"highly\" separated i.e., the states are very distinct."
   ]
  },
  {
   "cell_type": "code",
   "execution_count": 8,
   "id": "fce0179b",
   "metadata": {},
   "outputs": [
    {
     "data": {
      "text/plain": [
       "PriorHMM{Float64, DriftDiffusionModel}([0.89, 0.11], [0.95 0.05; 0.2 0.8], DriftDiffusionModel[DriftDiffusionModel(3.0, 0.5, 0.5, 0.3, 1.0), DriftDiffusionModel(0.2, 0.0, 0.5, 0.0, 1.0)], [2.0 2.0; 2.0 2.0], [1.0, 1.0])"
      ]
     },
     "metadata": {},
     "output_type": "display_data"
    }
   ],
   "source": [
    "# this part will define a DDM with an \"engaged\" agent. In these models vis drift rate, B is boundary separation, and τ is non-decision time. We assume the initial state (defined as the relative fraction between correct and wrong choice is 0.5, i.e., unbiased), we also assume the noise coefficient σ = 1.0.\n",
    "engaged_ddm = DriftDiffusionModel(\n",
    "    v = 0.5,\n",
    "    B = 3.0,\n",
    "    τ = 0.3\n",
    ")\n",
    "\n",
    "disengaged_ddm = DriftDiffusionModel(\n",
    "    v = 0.0,\n",
    "    B = 0.2,\n",
    "    τ = 0.0\n",
    ")\n",
    "\n",
    "# our hmm\n",
    "high_hmm_true = PriorHMM(\n",
    "    π₀,\n",
    "    A,\n",
    "    [engaged_ddm, disengaged_ddm],\n",
    "    ones(2, 2) .*  2,\n",
    "    ones(2)\n",
    ")"
   ]
  },
  {
   "cell_type": "markdown",
   "id": "19dafe29",
   "metadata": {},
   "source": [
    "## Medium Separation\n",
    "This section will assess how well the HMM-DDM where the two DDMs are somewhat separated i.e., the states are reasonably distinct."
   ]
  },
  {
   "cell_type": "code",
   "execution_count": 9,
   "id": "5d1da082",
   "metadata": {},
   "outputs": [
    {
     "data": {
      "text/plain": [
       "PriorHMM{Float64, DriftDiffusionModel}([0.89, 0.11], [0.95 0.05; 0.2 0.8], DriftDiffusionModel[DriftDiffusionModel(3.0, 0.5, 0.5, 0.3, 1.0), DriftDiffusionModel(1.0, 0.2, 0.5, 0.35, 1.0)], [2.0 2.0; 2.0 2.0], [1.0, 1.0])"
      ]
     },
     "metadata": {},
     "output_type": "display_data"
    }
   ],
   "source": [
    "less_engaged_ddm = DriftDiffusionModel(\n",
    "    v = 0.2,\n",
    "    B = 1.0,\n",
    "    τ = 0.35\n",
    ")\n",
    "\n",
    "# our hmm\n",
    "medium_hmm_true = PriorHMM(\n",
    "    π₀,\n",
    "    A,\n",
    "    [engaged_ddm, less_engaged_ddm],\n",
    "    ones(2, 2) .*  2,\n",
    "    ones(2)\n",
    ")"
   ]
  },
  {
   "cell_type": "markdown",
   "id": "d9b4c8ca",
   "metadata": {},
   "source": [
    "## Low Separation\n",
    "This section will assess how well the HMM-DDM where the two DDMs are barely separated i.e., the states are almost identical."
   ]
  },
  {
   "cell_type": "code",
   "execution_count": 10,
   "id": "3778913e",
   "metadata": {},
   "outputs": [
    {
     "data": {
      "text/plain": [
       "PriorHMM{Float64, DriftDiffusionModel}([0.89, 0.11], [0.95 0.05; 0.2 0.8], DriftDiffusionModel[DriftDiffusionModel(3.0, 0.5, 0.5, 0.3, 1.0), DriftDiffusionModel(2.8, 0.4, 0.5, 0.25, 1.0)], [2.0 2.0; 2.0 2.0], [1.0, 1.0])"
      ]
     },
     "metadata": {},
     "output_type": "display_data"
    }
   ],
   "source": [
    "also_engaged_ddm = DriftDiffusionModel(\n",
    "    v = 0.4,\n",
    "    B = 2.8,\n",
    "    τ = 0.25\n",
    ")\n",
    "\n",
    "# our hmm\n",
    "low_hmm_true = PriorHMM(\n",
    "    π₀,\n",
    "    A,\n",
    "    [engaged_ddm, also_engaged_ddm],\n",
    "    ones(2, 2) .*  2,\n",
    "    ones(2)\n",
    ")"
   ]
  },
  {
   "cell_type": "markdown",
   "id": "15e747d0",
   "metadata": {},
   "source": [
    "## Generate data\n",
    "---\n",
    "In this cell we will generate data from all of the \"true\" HMMs"
   ]
  },
  {
   "cell_type": "code",
   "execution_count": null,
   "id": "11d74928",
   "metadata": {},
   "outputs": [],
   "source": [
    "# create a dict-of-dicts to store the data\n",
    "data_dict = Dict(\n",
    "    \"high\" => Dict(),\n",
    "    \"medium\" => Dict(),\n",
    "    \"low\" => Dict()\n",
    ")\n",
    "\n",
    "for model in [\"high\", \"medium\", \"low\"]\n",
    "    for t_length in t_lengths\n",
    "        # generate data\n",
    "        if model == \"high\"\n",
    "            data_dict[model][t_length] = rand(high_hmm_true, t_length)\n",
    "        elseif model == \"medium\"\n",
    "            data_dict[model][t_length] = rand(medium_hmm_true, t_length)\n",
    "        else\n",
    "            data_dict[model][t_length] = rand(low_hmm_true, t_length)\n",
    "        end\n",
    "    end\n",
    "end"
   ]
  },
  {
   "cell_type": "code",
   "execution_count": null,
   "id": "9203e146",
   "metadata": {},
   "outputs": [],
   "source": [
    "learned_model_dict = Dict(\n",
    "    \"high\" => Dict(),\n",
    "    \"medium\" => Dict(),\n",
    "    \"low\" => Dict()\n",
    ")\n",
    "\n",
    "for model in [\"high\", \"medium\", \"low\"]\n",
    "    for t_length in t_lengths\n",
    "        # fit the model to the data\n",
    "        learned_model_dict[model][t_length] = baum_welch(hmm_init, data_dict[model][t_length])\n",
    "    end\n",
    "end"
   ]
  }
 ],
 "metadata": {
  "kernelspec": {
   "display_name": "Julia 1.10.4",
   "language": "julia",
   "name": "julia-1.10"
  },
  "language_info": {
   "file_extension": ".jl",
   "mimetype": "application/julia",
   "name": "julia",
   "version": "1.10.4"
  }
 },
 "nbformat": 4,
 "nbformat_minor": 5
}
