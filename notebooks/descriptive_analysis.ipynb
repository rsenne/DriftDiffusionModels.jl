{
 "cells": [
  {
   "cell_type": "code",
   "execution_count": 1,
   "id": "b1ace222",
   "metadata": {},
   "outputs": [],
   "source": [
    "using Turing\n",
    "using Distributions\n",
    "using LinearAlgebra\n",
    "using StatsFuns\n",
    "using FastGaussQuadrature\n",
    "using Bijectors\n",
    "using HiddenMarkovModels\n",
    "using DataFrames\n",
    "using CSV\n",
    "using Dates\n",
    "using StatsAPI\n",
    "using DensityInterface\n",
    "using StatsPlots\n",
    "using ReverseDiff\n",
    "using Random\n",
    "using MCMCChains"
   ]
  },
  {
   "cell_type": "code",
   "execution_count": 2,
   "id": "df48abeb",
   "metadata": {},
   "outputs": [
    {
     "data": {
      "text/plain": [
       "12311-element Vector{Int64}:\n",
       " -1\n",
       "  1\n",
       " -1\n",
       "  1\n",
       "  1\n",
       " -1\n",
       " -1\n",
       " -1\n",
       "  1\n",
       "  1\n",
       "  ⋮\n",
       "  1\n",
       " -1\n",
       "  1\n",
       " -1\n",
       " -1\n",
       " -1\n",
       " -1\n",
       "  1\n",
       " -1"
      ]
     },
     "metadata": {},
     "output_type": "display_data"
    }
   ],
   "source": [
    "# --- load ---\n",
    "df = CSV.read(\"../data/mouse_df.csv\", DataFrame)\n",
    "\n",
    "# --- pick mouse with most trials ---\n",
    "trial_counts = combine(groupby(df, :name), nrow => :trial_count)\n",
    "sort!(trial_counts, :trial_count, rev=true)\n",
    "moi = trial_counts[1, :name]\n",
    "mouse_df = df[df.name .== moi, :]\n",
    "\n",
    "# --- drop omissions ---\n",
    "if :outcome ∈ names(mouse_df)\n",
    "    mouse_df = filter(:outcome => x -> x != \"omission\", mouse_df)\n",
    "end\n",
    "\n",
    "# --- drop invalid RTs (e.g., \"NAN\") ---\n",
    "valid_rt_mask = .!(ismissing.(mouse_df.rt) .| (uppercase.(string.(mouse_df.rt)) .== \"NAN\"))\n",
    "mouse_df = mouse_df[valid_rt_mask, :]\n",
    "\n",
    "# coerce RTs to Float64\n",
    "RTs = Float64.(mouse_df.rt)\n",
    "choices = mouse_df.choice\n",
    "outcomes = mouse_df.outcome\n",
    "correct_side = mouse_df.correct_side\n",
    "\n",
    "# coerce choices to 1 and 0\n",
    "choices = Vector{Int}(map(x -> x == \"right\" ? 1 : 0, choices))\n",
    "outcomes = Vector{Int}(map(x -> x == \"correct\" ? 1 : 0, outcomes))\n",
    "correct_side = Vector{Int}(map(x -> x == \"right\" ? 1 : -1, correct_side))"
   ]
  },
  {
   "cell_type": "code",
   "execution_count": 3,
   "id": "246e9871",
   "metadata": {},
   "outputs": [
    {
     "data": {
      "text/plain": [
       "prepare_ar_data (generic function with 1 method)"
      ]
     },
     "metadata": {},
     "output_type": "display_data"
    }
   ],
   "source": [
    "@model function hierarchical_ar_p(df::DataFrame, p::Int)\n",
    "    # Pre-process data outside the model for efficiency\n",
    "    processed_data = prepare_ar_data(df, p)\n",
    "    \n",
    "    subjects = processed_data.subjects\n",
    "    n_subjects = length(subjects)\n",
    "    y = processed_data.y  # log RTs for valid observations\n",
    "    X = processed_data.X  # AR design matrix [n_obs × p]\n",
    "    subject_indices = processed_data.subject_indices  # which subject each obs belongs to\n",
    "    \n",
    "    # Group level priors/hyperpriors\n",
    "    β_μ ~ MvNormal(zeros(p), 1.0*I)\n",
    "    β_σ ~ filldist(Exponential(0.5), p)\n",
    "    σ_μ ~ Exponential(0.1)\n",
    "    σ_σ ~ Exponential(0.1)\n",
    "    \n",
    "    # Individual level parameters (vectorized)\n",
    "    β_raw ~ filldist(MvNormal(zeros(p), I), n_subjects)  # Non-centered parameterization\n",
    "    β = [β_μ + β_σ .* β_raw[s] for s in 1:n_subjects]    # Transform to centered\n",
    "    \n",
    "    σ ~ filldist(LogNormal(log(σ_μ), σ_σ), n_subjects)\n",
    "    \n",
    "    # Vectorized likelihood - no loops or conditionals\n",
    "    μ = [dot(X[i, :], β[subject_indices[i]]) for i in 1:length(y)]\n",
    "    σ_vec = σ[subject_indices]  # Broadcast subject-specific sigmas\n",
    "    \n",
    "    y ~ MvNormal(μ, Diagonal(σ_vec.^2))\n",
    "end\n",
    "\n",
    "# Helper function to prepare data (call once before sampling)\n",
    "function prepare_ar_data(df::DataFrame, p::Int)\n",
    "    # Sort by subject and time if not already sorted\n",
    "    df_sorted = sort(df, [:name, :trial])  # Assuming you have a trial/time column\n",
    "    \n",
    "    subjects = unique(df_sorted.name)\n",
    "    subject_to_idx = Dict(subj => i for (i, subj) in enumerate(subjects))\n",
    "    \n",
    "    log_rt = log.(df_sorted.rt)\n",
    "    valid_indices = Int[]\n",
    "    y_vals = Float64[]\n",
    "    X_rows = Vector{Float64}[]\n",
    "    subj_indices = Int[]\n",
    "    \n",
    "    # Process each subject separately\n",
    "    for subj in subjects\n",
    "        subj_mask = df_sorted.name .== subj\n",
    "        subj_log_rt = log_rt[subj_mask]\n",
    "        subj_idx = subject_to_idx[subj]\n",
    "        \n",
    "        # For this subject, create AR design matrix\n",
    "        for t in (p+1):length(subj_log_rt)\n",
    "            push!(y_vals, subj_log_rt[t])\n",
    "            push!(X_rows, subj_log_rt[t-p:t-1])  # Lagged values\n",
    "            push!(subj_indices, subj_idx)\n",
    "        end\n",
    "    end\n",
    "    \n",
    "    # Convert to matrix\n",
    "    X = reduce(hcat, X_rows)'  # [n_obs × p]\n",
    "    \n",
    "    return (\n",
    "        subjects = subjects,\n",
    "        y = y_vals,\n",
    "        X = X,\n",
    "        subject_indices = subj_indices\n",
    "    )\n",
    "end"
   ]
  },
  {
   "cell_type": "code",
   "execution_count": null,
   "id": "ec2e4e74",
   "metadata": {},
   "outputs": [
    {
     "name": "stderr",
     "output_type": "stream",
     "text": [
      "\u001b[32mSampling   0%|█                                         |  ETA: N/A\u001b[39m\n"
     ]
    }
   ],
   "source": [
    "p = 3\n",
    "\n",
    "# Call once to prepare data\n",
    "processed = prepare_ar_data(df, p)\n",
    "\n",
    "# Then sample normally\n",
    "chain = sample(hierarchical_ar_p(df, p), NUTS(), 1000)"
   ]
  }
 ],
 "metadata": {
  "kernelspec": {
   "display_name": "Julia 1.11.1",
   "language": "julia",
   "name": "julia-1.11"
  },
  "language_info": {
   "file_extension": ".jl",
   "mimetype": "application/julia",
   "name": "julia",
   "version": "1.11.1"
  }
 },
 "nbformat": 4,
 "nbformat_minor": 5
}
