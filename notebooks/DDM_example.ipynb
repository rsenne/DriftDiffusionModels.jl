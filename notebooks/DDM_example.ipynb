{
 "cells": [
  {
   "cell_type": "code",
   "execution_count": 1,
   "id": "b0beca24",
   "metadata": {},
   "outputs": [],
   "source": [
    "using DriftDiffusionModels\n",
    "using Plots"
   ]
  },
  {
   "cell_type": "code",
   "execution_count": 2,
   "id": "1183b9e7",
   "metadata": {},
   "outputs": [
    {
     "data": {
      "text/plain": [
       "10000-element Vector{DDMResult}:\n",
       " DDMResult(10.772789879780825, -1)\n",
       " DDMResult(6.055584712174031, 1)\n",
       " DDMResult(9.430929711132972, 1)\n",
       " DDMResult(11.02917961038279, 1)\n",
       " DDMResult(8.229516674811581, 1)\n",
       " DDMResult(6.502337982891849, 1)\n",
       " DDMResult(3.329415659243356, 1)\n",
       " DDMResult(8.082319185731853, 1)\n",
       " DDMResult(7.511204578450831, 1)\n",
       " DDMResult(5.559427732701405, 1)\n",
       " ⋮\n",
       " DDMResult(8.187598411492894, 1)\n",
       " DDMResult(6.088176065438811, 1)\n",
       " DDMResult(13.045589797422243, 1)\n",
       " DDMResult(4.2083885505609935, 1)\n",
       " DDMResult(5.719264875127403, 1)\n",
       " DDMResult(7.501560293944416, 1)\n",
       " DDMResult(6.804209646473647, 1)\n",
       " DDMResult(6.940929436968678, 1)\n",
       " DDMResult(8.31654660116865, 1)"
      ]
     },
     "metadata": {},
     "output_type": "display_data"
    }
   ],
   "source": [
    "# create a DDM we will sample RT and choices from\n",
    "B = 10\n",
    "v = 1.25\n",
    "α₀ = 1.2\n",
    "σ = 1.0 # default value always\n",
    "\n",
    "ddm = DriftDiffusionModel(B, v, α₀, σ)\n",
    "\n",
    "# now we sample\n",
    "data = rand(ddm, 10000)"
   ]
  },
  {
   "cell_type": "code",
   "execution_count": 3,
   "id": "0031d040",
   "metadata": {},
   "outputs": [
    {
     "data": {
      "text/plain": [
       "DriftDiffusionModel(9.965471587000414, 1.246251940061206, 1.1812329269847115, 1.0)"
      ]
     },
     "metadata": {},
     "output_type": "display_data"
    }
   ],
   "source": [
    "# using the data from generated above, fit the DDM. Here we assume a single state model so no weights necessary.\n",
    "naive_ddm = DriftDiffusionModel(9., 2., 2., 1.)\n",
    "fit!(naive_ddm, data)"
   ]
  }
 ],
 "metadata": {
  "kernelspec": {
   "display_name": "Julia 1.10.4",
   "language": "julia",
   "name": "julia-1.10"
  },
  "language_info": {
   "file_extension": ".jl",
   "mimetype": "application/julia",
   "name": "julia",
   "version": "1.10.4"
  }
 },
 "nbformat": 4,
 "nbformat_minor": 5
}
