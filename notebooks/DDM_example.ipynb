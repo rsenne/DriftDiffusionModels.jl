{
 "cells": [
  {
   "cell_type": "code",
   "execution_count": 1,
   "id": "b0beca24",
   "metadata": {},
   "outputs": [],
   "source": [
    "using DriftDiffusionModels\n",
    "using Plots"
   ]
  },
  {
   "cell_type": "code",
   "execution_count": 2,
   "id": "1183b9e7",
   "metadata": {},
   "outputs": [
    {
     "data": {
      "text/plain": [
       "10000-element Vector{DDMResult}:\n",
       " DDMResult(5.686455000440937, -1)\n",
       " DDMResult(4.9435470003370945, -1)\n",
       " DDMResult(1.9145099999326844, -1)\n",
       " DDMResult(10.341436999011986, 1)\n",
       " DDMResult(6.3856200005386645, -1)\n",
       " DDMResult(4.030700000209499, 1)\n",
       " DDMResult(2.1408939999453453, -1)\n",
       " DDMResult(16.190055994972482, -1)\n",
       " DDMResult(4.856819000324972, 1)\n",
       " DDMResult(11.276387998312268, 1)\n",
       " ⋮\n",
       " DDMResult(4.241368000238945, 1)\n",
       " DDMResult(18.91889599777761, 1)\n",
       " DDMResult(22.706455001671056, 1)\n",
       " DDMResult(7.9876680007625955, 1)\n",
       " DDMResult(5.287230000385134, 1)\n",
       " DDMResult(9.629006999545169, 1)\n",
       " DDMResult(3.5158610001375354, 1)\n",
       " DDMResult(4.174017000229531, 1)\n",
       " DDMResult(3.3893660001198542, 1)"
      ]
     },
     "metadata": {},
     "output_type": "display_data"
    }
   ],
   "source": [
    "# create a DDM we will sample RT and choices from\n",
    "B = 6.0\n",
    "v = 0.23\n",
    "α₀ = 0.5\n",
    "σ = 1.0 # default value always\n",
    "\n",
    "ddm = DriftDiffusionModel(B, v, α₀, σ)\n",
    "\n",
    "# now we sample\n",
    "data = simulateDDM(ddm, 10000, 1e-6)"
   ]
  },
  {
   "cell_type": "code",
   "execution_count": 3,
   "id": "0031d040",
   "metadata": {},
   "outputs": [
    {
     "data": {
      "text/plain": [
       "DriftDiffusionModel(6.010578057848547, 0.2309440129062633, 0.49924488123355215, 1.0)"
      ]
     },
     "metadata": {},
     "output_type": "display_data"
    }
   ],
   "source": [
    "# using the data from generated above, fit the DDM. Here we assume a single state model so no weights necessary.\n",
    "naive_ddm = DriftDiffusionModel(7., 0.5, 0.5, 1.)\n",
    "fit!(naive_ddm, data)"
   ]
  }
 ],
 "metadata": {
  "kernelspec": {
   "display_name": "Julia 1.10.4",
   "language": "julia",
   "name": "julia-1.10"
  },
  "language_info": {
   "file_extension": ".jl",
   "mimetype": "application/julia",
   "name": "julia",
   "version": "1.10.4"
  }
 },
 "nbformat": 4,
 "nbformat_minor": 5
}
