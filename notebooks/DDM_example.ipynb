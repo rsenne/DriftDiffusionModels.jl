{
 "cells": [
  {
   "cell_type": "code",
   "execution_count": 1,
   "id": "b0beca24",
   "metadata": {},
   "outputs": [],
   "source": [
    "using DriftDiffusionModels\n",
    "using Plots"
   ]
  },
  {
   "cell_type": "code",
   "execution_count": 2,
   "id": "1183b9e7",
   "metadata": {},
   "outputs": [
    {
     "data": {
      "text/plain": [
       "10000-element Vector{DDMResult}:\n",
       " DDMResult(7.601961480158842, 1)\n",
       " DDMResult(10.62449927494703, 1)\n",
       " DDMResult(10.074213445208233, 1)\n",
       " DDMResult(6.113567712945477, 1)\n",
       " DDMResult(6.744897116115007, 1)\n",
       " DDMResult(6.787859551214787, 1)\n",
       " DDMResult(7.8829709555679095, 1)\n",
       " DDMResult(6.596922817565501, 1)\n",
       " DDMResult(7.593730321080536, 1)\n",
       " DDMResult(7.595398112342943, 1)\n",
       " ⋮\n",
       " DDMResult(4.06299314468782, 1)\n",
       " DDMResult(10.395923698586758, 1)\n",
       " DDMResult(3.1627391406578655, 1)\n",
       " DDMResult(9.484307939812744, 1)\n",
       " DDMResult(6.948286330589915, 1)\n",
       " DDMResult(8.398392954652447, 1)\n",
       " DDMResult(7.571015376479644, 1)\n",
       " DDMResult(7.371077695292938, 1)\n",
       " DDMResult(5.780173738660969, 1)"
      ]
     },
     "metadata": {},
     "output_type": "display_data"
    }
   ],
   "source": [
    "# create a DDM we will sample RT and choices from\n",
    "B = 10\n",
    "v = 1.25\n",
    "α₀ = 1.2\n",
    "σ = 1.0 # default value always\n",
    "\n",
    "ddm = DriftDiffusionModel(B, v, α₀, σ)\n",
    "\n",
    "# now we sample\n",
    "data = rand(ddm, 10000)"
   ]
  },
  {
   "cell_type": "code",
   "execution_count": 3,
   "id": "0031d040",
   "metadata": {},
   "outputs": [
    {
     "data": {
      "text/plain": [
       "DriftDiffusionModel(9.980081613639204, 1.2572895346833004, 1.0869893928550627, 1.0)"
      ]
     },
     "metadata": {},
     "output_type": "display_data"
    }
   ],
   "source": [
    "# using the data from generated above, fit the DDM. Here we assume a single state model so no weights necessary.\n",
    "naive_ddm = DriftDiffusionModel(9., 2., 2., 1.)\n",
    "fit!(naive_ddm, data)"
   ]
  }
 ],
 "metadata": {
  "kernelspec": {
   "display_name": "Julia 1.10.4",
   "language": "julia",
   "name": "julia-1.10"
  },
  "language_info": {
   "file_extension": ".jl",
   "mimetype": "application/julia",
   "name": "julia",
   "version": "1.10.4"
  }
 },
 "nbformat": 4,
 "nbformat_minor": 5
}
